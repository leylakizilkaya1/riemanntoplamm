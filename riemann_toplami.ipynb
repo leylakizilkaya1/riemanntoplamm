{
 "cells": [
  {
   "cell_type": "code",
   "execution_count": 1,
   "id": "afraid-therapy",
   "metadata": {},
   "outputs": [
    {
     "data": {
      "text/plain": [
       "0.245025"
      ]
     },
     "execution_count": 1,
     "metadata": {},
     "output_type": "execute_result"
    }
   ],
   "source": [
    "def f(x):\n",
    "    return x**3\n",
    "\n",
    "import numpy as np\n",
    "def riemann_toplam(f,a,b,N,yontem):\n",
    "    dx = (b-a) / N\n",
    "    \n",
    "    x = np.linspace(a,b,N+1)\n",
    "    \n",
    "    if yontem == 'alt_riemann' :\n",
    "        x_alt = x[:-1]\n",
    "        return np.sum(f(x_alt)*dx)\n",
    "    elif yontem == 'ust_riemann' :\n",
    "        x_ust = x[1:]\n",
    "        return np.sum(f(x_ust)*dx)\n",
    "\n",
    "\n",
    "riemann_toplam(f,0,1,100,'alt_riemann')\n",
    "\n",
    "\n",
    "\n"
   ]
  },
  {
   "cell_type": "code",
   "execution_count": 2,
   "id": "treated-radar",
   "metadata": {},
   "outputs": [
    {
     "data": {
      "text/plain": [
       "0.255025"
      ]
     },
     "execution_count": 2,
     "metadata": {},
     "output_type": "execute_result"
    }
   ],
   "source": [
    "riemann_toplam(f,0,1,100,'ust_riemann')\n"
   ]
  },
  {
   "cell_type": "code",
   "execution_count": 3,
   "id": "together-standing",
   "metadata": {},
   "outputs": [
    {
     "data": {
      "text/latex": [
       "$\\displaystyle \\frac{t^{4}}{4}$"
      ],
      "text/plain": [
       "t**4/4"
      ]
     },
     "execution_count": 3,
     "metadata": {},
     "output_type": "execute_result"
    }
   ],
   "source": [
    "from sympy import *\n",
    "t = Symbol('t')\n",
    "integrate(t**3,t)"
   ]
  },
  {
   "cell_type": "code",
   "execution_count": null,
   "id": "aerial-blackjack",
   "metadata": {},
   "outputs": [],
   "source": []
  }
 ],
 "metadata": {
  "kernelspec": {
   "display_name": "Python 3",
   "language": "python",
   "name": "python3"
  },
  "language_info": {
   "codemirror_mode": {
    "name": "ipython",
    "version": 3
   },
   "file_extension": ".py",
   "mimetype": "text/x-python",
   "name": "python",
   "nbconvert_exporter": "python",
   "pygments_lexer": "ipython3",
   "version": "3.7.8"
  }
 },
 "nbformat": 4,
 "nbformat_minor": 5
}
